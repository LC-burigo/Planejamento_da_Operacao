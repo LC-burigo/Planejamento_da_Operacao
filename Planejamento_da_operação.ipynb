{
  "cells": [
    {
      "cell_type": "markdown",
      "metadata": {
        "id": "yIVZGrXlug58"
      },
      "source": [
        "# Aula 2 - Planejamento de Sistemas Elétricos\n",
        "\n",
        "## PPEE - UFJF\n",
        "\n",
        "Esta é aula 2 da disciplina de Planejamento de Sistemas Elétricos do PPEE-UFJF\n",
        "\n",
        "O seu objetivo é apresentar uma implementação em Python da Técnica de Programação Dinâmica Estocástica \"Adptada\" \n",
        "\n"
      ]
    },
    {
      "cell_type": "markdown",
      "metadata": {
        "id": "UVtVynpuf9dl"
      },
      "source": [
        "## Definição dos Dados do Problema\n",
        "\n",
        "Usinas Hidrelétricas, termelétricas e dados gerais do sistema"
      ]
    },
    {
      "cell_type": "code",
      "execution_count": 11,
      "metadata": {
        "id": "XyGru20zwivQ"
      },
      "outputs": [],
      "source": [
        "lista_uhe = []\n",
        "\n",
        "usina = {\n",
        "    \"Nome\": \"UHE DO MARCATO\", # Nome da Usina\n",
        "    \"Vmax\": 100.,             # Volume Máximo em hm^3\n",
        "    \"Vmin\": 20.,              # Volume Mínimo em hm^3\n",
        "    \"Prod\": 0.95,             # Produtibilidade em MWmed/hm^3\n",
        "    \"Engol\": 60.,             # Engolimento Máximo em hm^3\n",
        "    \"Afl\": [                  # Cenários de Afluências (linha: Estágio, coluna: cenário)\n",
        "            [ 23, 16],\n",
        "            [ 19, 14],\n",
        "            [ 15, 11]\n",
        "    ]\n",
        "}\n",
        "\n",
        "lista_uhe.append(usina)\n",
        "\n",
        "#\n",
        "# Retirar os comentários abaixo para considerar 2 UHEs\n",
        "#\n",
        "#usina = {\n",
        "#    \"Nome\": \"UHE DO VASCAO\",\n",
        "#    \"Vmax\": 200.,\n",
        "#    \"Vmin\": 40.,\n",
        "#    \"Prod\": 0.85,\n",
        "#    \"Engol\": 100.,\n",
        "#    \"Afl\": [ \n",
        "#            [ 46, 32],\n",
        "#            [ 38, 28],\n",
        "#            [ 30, 22]\n",
        "#    ]\n",
        "#}\n",
        "#lista_uhe.append(usina)\n",
        "\n",
        "usina = {\n",
        "    \"Nome\": \"GT_1\",     # Nome da Usina Térmica 1\n",
        "    \"Capac\": 15.,       # Capacidade Máxima de Geração MWMed\n",
        "    \"Custo\": 10.        # Custo de Operação $/MWMed\n",
        "}\n",
        "\n",
        "lista_ute = []\n",
        "\n",
        "lista_ute.append(usina)\n",
        "\n",
        "usina = {\n",
        "    \"Nome\": \"GT_2\",     # Nome da Usina Térmica 2\n",
        "    \"Capac\": 10.,       # Capacidade Máxima de Geração MWmed\n",
        "    \"Custo\": 25.        # Custo de Operação $/MWMed\n",
        "}\n",
        "\n",
        "lista_ute.append(usina)\n",
        "\n",
        "#\n",
        "# d_gerais para o caso 1 UHE\n",
        "#\n",
        "d_gerais = {\n",
        "    \"CDef\": 500.,             # Custo de Déficit $/MWMed\n",
        "    \"Carga\": [ 50, 50., 50],  # Lista com carga a ser atendida por estágio\n",
        "    \"Nr_Disc\": 3,            # Número de Discretizações\n",
        "    \"Nr_Est\": 3,              # Número de Estágios\n",
        "    \"Nr_Cen\": 2               # Número de Cenários de Afluências\n",
        "}\n",
        "\n",
        "#\n",
        "# d_gerais para o caso 2 UHE (Comentar o bloco acima e descomentar o bloco abaixo)\n",
        "#\n",
        "#d_gerais = {\n",
        "#    \"CDef\": 500.,\n",
        "#    \"Carga\": [ 100, 100., 100],\n",
        "#    \"Nr_Disc\": 3,\n",
        "#    \"Nr_Est\": 3,\n",
        "#    \"Nr_Cen\": 2\n",
        "#}\n",
        "\n",
        "#\n",
        "# Cria dicionário de dados com todas as informações do sistema em estudo\n",
        "#\n",
        "sistema = {\n",
        "    \"DGer\": d_gerais,\n",
        "    \"UHE\": lista_uhe,\n",
        "    \"UTE\": lista_ute\n",
        "}\n"
      ]
    },
    {
      "cell_type": "markdown",
      "metadata": {
        "id": "QhlgPxIcgL_T"
      },
      "source": [
        "## Modelo de Otimização\n",
        "\n",
        "Criação de uma Função para o Despacho Hidrotérmico\n",
        "\n",
        "$Min \\hspace{0.5cm} C_1 \\cdot gt_1 + C_2 \\cdot gt_2 + CDEF \\cdot def + 0.01 \\cdot vvert + \\alpha$\n",
        "\n",
        "sujeito a:\n",
        "\n",
        "$ vf = VI + AFL - vtur - vvert $ (Equação de Balanço Hídrico)\n",
        "\n",
        "$ \\rho \\cdot vtur + gt_1 + gt_2 + def = CARGA $ (Equação de Atendimento à Demanda)\n",
        "\n",
        "$ 20 \\le vf \\le 100 $ \n",
        "\n",
        "$ 0 \\le vtur \\le 60 $\n",
        "\n",
        "$ 0 \\le vvert \\le \\infty $\n",
        "\n",
        "$ 0 \\le gt_1 \\le 15 $\n",
        "\n",
        "$ 0 \\le gt_2 \\le 10 $\n",
        "\n",
        "$ 0 \\le def \\le \\infty $\n",
        "\n",
        "Inequações dos Cortes (para cada corte i)\n",
        "\n",
        "$ \\alpha \\ge \\sum_j{a_{ji}} \\cdot {v_f}_j + b_i $"
      ]
    },
    {
      "cell_type": "markdown",
      "metadata": {
        "id": "JROdHexudGB0"
      },
      "source": [
        "## Programa Principal \n",
        "\n",
        "Implementa o algoritmo da PDE Adaptada"
      ]
    },
    {
      "cell_type": "code",
      "execution_count": 12,
      "metadata": {},
      "outputs": [],
      "source": [
        "from cvxopt.modeling import variable, solvers\n",
        "from cvxopt.modeling import op\n",
        "\n",
        "\n",
        "def despacho(sistema, VI, AFL, imprime):\n",
        "\n",
        "    Num_UHE = len(sistema[\"UHE\"])\n",
        "    Num_UTE = len(sistema[\"UTE\"])\n",
        "    \n",
        "    vf = variable(Num_UHE, \"Volume Final na Usina\")\n",
        "    vt = variable(Num_UHE, \"Volume Turbinado na Usina\")\n",
        "    vv = variable(Num_UHE, \"Volume Vertido na Usina\")\n",
        "    gt = variable(Num_UTE, \"Geração na Usina Térmica\")\n",
        "    deficit = variable(1, \"Déficit de Energia no Sistema\")\n",
        "\n",
        "    # Construção da Função Objetivo\n",
        "\n",
        "    fob = 0\n",
        "\n",
        "    for i, iusi in enumerate(sistema[\"UTE\"]):\n",
        "        fob += iusi['Custo']*gt[i]\n",
        "\n",
        "    fob += sistema[\"DGer\"][\"CDef\"]*deficit[0]\n",
        "\n",
        "    for i, iusi in enumerate(sistema[\"UHE\"]):\n",
        "        fob += 0.01*vv[i]\n",
        "\n",
        "    # Definição das Restrições\n",
        "\n",
        "    restricoes = []\n",
        "\n",
        "    #Balanço Hídrico\n",
        "\n",
        "    for i, iusi in enumerate(sistema[\"UHE\"]):\n",
        "        restricoes.append(vf[i] == float(VI[i]) + float(AFL[i]) - vt[i] - vv[i])\n",
        "\n",
        "    # Atendimento à Demanda\n",
        "    \n",
        "    AD = 0\n",
        "\n",
        "    for i, iusi in enumerate(sistema[\"UHE\"]):\n",
        "        AD += iusi[\"Prod\"]*vt[i]\n",
        "\n",
        "    for i, iusi in enumerate(sistema[\"UTE\"]):\n",
        "        AD += gt[i]\n",
        "\n",
        "    AD += deficit[0]\n",
        "\n",
        "    restricoes.append(AD == sistema[\"DGer\"][\"Carga\"][2])\n",
        "\n",
        "    # print(restricoes[1])\n",
        "\n",
        "    # Restrições Canalização\n",
        "\n",
        "    for i, iusi in enumerate(sistema[\"UHE\"]):\n",
        "        restricoes.append(vf[i] >= iusi[\"Vmin\"])\n",
        "        restricoes.append(vf[i] <= iusi[\"Vmax\"])\n",
        "        restricoes.append(vt[i] >= 0)\n",
        "        restricoes.append(vt[i] <= iusi[\"Engol\"])\n",
        "        restricoes.append(vv[i] >= 0)\n",
        "\n",
        "    for i, iusi in enumerate(sistema[\"UTE\"]):\n",
        "        restricoes.append(gt[i] >= 0)\n",
        "        restricoes.append(gt[i] <= iusi[\"Capac\"])\n",
        "\n",
        "    restricoes.append(deficit[0] >= 0)\n",
        "\n",
        "    problema = op(fob, restricoes)\n",
        "\n",
        "    problema.solve('dense', 'glpk')\n",
        "\n",
        "    DGer = {\n",
        "        \"deficit\": deficit[0].value()[0],\n",
        "        \"CMO\": restricoes[Num_UHE].multiplier.value[0],\n",
        "        \"CustoTotal\": fob.value()[0]\n",
        "    }\n",
        "\n",
        "    lista_uhe = []\n",
        "\n",
        "    for i, iusi in enumerate(sistema[\"UHE\"]):\n",
        "        resultado = {\n",
        "            \"vf\": vf[i].value()[0], \n",
        "            \"vt\": vt[i].value()[0],\n",
        "            \"vv\": vv[i].value()[0],\n",
        "            \"cma\": restricoes[i].multiplier.value[0]\n",
        "            }\n",
        "        lista_uhe.append(resultado)\n",
        "\n",
        "    lista_ute = []\n",
        "\n",
        "    for i, iusi in enumerate(sistema[\"UTE\"]):\n",
        "        resultado = {\n",
        "            \"gt\": gt[i].value()[0]\n",
        "        }\n",
        "        lista_ute.append(resultado)\n",
        "\n",
        "    resultado = {\n",
        "        \"DGer\": DGer,\n",
        "        \"UHE\": lista_uhe,\n",
        "        \"UTE\": lista_ute\n",
        "    }\n",
        "\n",
        "    if imprime:\n",
        "        print(\"Custo Total:\", fob.value())\n",
        "\n",
        "        for i, iusi in enumerate(sistema[\"UHE\"]):\n",
        "            print(vf.name, i, \"é\", vf[i].value(), \"hm3\")\n",
        "            print(vt.name, i, \"é\", vt[i].value(), \"hm3\")\n",
        "            print(vv.name, i, \"é\", vv[i].value(), \"hm3\")\n",
        "\n",
        "        for i, iusi in enumerate(sistema[\"UTE\"]):\n",
        "            print(gt.name, i, \"é\", gt[i].value(), \"MWmed\")\n",
        "\n",
        "        print(deficit.name, i, \"é\", deficit[0].value(), \"MWmed\")\n",
        "\n",
        "        for i, iusi in enumerate(sistema[\"UHE\"]):\n",
        "            print(\"O valor da agua na usina\", i, \"é\", restricoes[i].multiplier.value)\n",
        "\n",
        "        print(\"O Custo Marginal é\", restricoes[Num_UHE].multiplier.value)\n",
        "    return (resultado)\n"
      ]
    },
    {
      "cell_type": "code",
      "execution_count": 13,
      "metadata": {},
      "outputs": [
        {
          "name": "stdout",
          "output_type": "stream",
          "text": [
            "[475.0]\n",
            "[4.75]\n",
            "[0.0]\n",
            "[475.0]\n",
            "[0.0]\n",
            "[0.0]\n",
            "[475.0]\n",
            "[0.0]\n",
            "[0.0]\n"
          ]
        },
        {
          "data": {
            "image/png": "[encoded data removed]",
            "text/plain": [
              "<Figure size 432x288 with 1 Axes>"
            ]
          },
          "metadata": {
            "needs_background": "light"
          },
          "output_type": "display_data"
        },
        {
          "data": {
            "image/png": "[encoded data removed]",
            "text/plain": [
              "<Figure size 432x288 with 1 Axes>"
            ]
          },
          "metadata": {
            "needs_background": "light"
          },
          "output_type": "display_data"
        },
        {
          "data": {
            "image/png": "[encoded data removed]",
            "text/plain": [
              "<Figure size 432x288 with 1 Axes>"
            ]
          },
          "metadata": {
            "needs_background": "light"
          },
          "output_type": "display_data"
        }
      ],
      "source": [
        "from itertools import  product, tee\n",
        "import numpy as np\n",
        "import matplotlib.pyplot as plt\n",
        "\n",
        "Num_UHE = len(sistema[\"UHE\"])\n",
        "Num_UTE = len(sistema[\"UTE\"])\n",
        "\n",
        "passo = 100 / (sistema[\"DGer\"][\"Nr_Disc\"] - 1)\n",
        "\n",
        "discretizacoes = product(np.arange(0, 100 + passo, passo), repeat=Num_UHE)\n",
        "\n",
        "discretizacoes = list(discretizacoes)\n",
        "\n",
        "for iest in np.arange(sistema[\"DGer\"][\"Nr_Est\"], 0, -1):\n",
        "    if Num_UHE == 1:\n",
        "        plt.figure(iest)\n",
        "        plt.title(\"Função de Custo Futuro - Estágio\" + str(iest))\n",
        "        plt.xlabel(\"Volume Inicial (hm^3\")\n",
        "        plt.ylabel(\"Custo Total\")\n",
        "        eixox = []\n",
        "        eixoy = []\n",
        "        for discretizacao in discretizacoes:\n",
        "            VI = []\n",
        "            for i, iusi in enumerate(sistema[\"UHE\"]):\n",
        "                VI.append(iusi[\"Vmin\"] + (iusi[\"Vmax\"] - iusi[\"Vmin\"])* discretizacao[i] / 100)\n",
        "            if Num_UHE== 1:\n",
        "                eixox.append(VI[0])\n",
        "            media = 0.\n",
        "            media_cma = []\n",
        "            for i, iusi in enumerate(sistema[\"UHE\"]):\n",
        "                media_cma.append(0)\n",
        "            for icen in np.arange(0, sistema[\"DGer\"][\"Nr_Cen\"]):\n",
        "                AFL = []\n",
        "                for i, iusi in enumerate(sistema[\"UHE\"]):\n",
        "                    AFL.append(iusi[\"Afl\"][iest-1][icen])\n",
        "                #print(iest, discretizacao, VI, icen, AFL)\n",
        "                resultado = despacho(sistema, VI, AFL, imprime = False)\n",
        "                media += resultado[\"DGer\"][\"CustoTotal\"]\n",
        "                for i, iusi in enumerate(resultado[\"UHE\"]):\n",
        "                    media_cma[i] += iusi[\"cma\"]\n",
        "            media = media/sistema[\"DGer\"][\"Nr_Cen\"]\n",
        "            for i,iusi in enumerate(resultado[\"UHE\"]):\n",
        "                media_cma[i] = media_cma[i]/sistema[\"DGer\"][\"Nr_Cen\"]\n",
        "            print(media_cma)\n",
        "            if Num_UHE == 1:\n",
        "                eixoy.append(media)\n",
        "            if Num_UHE == 1:\n",
        "                plt.plot(eixox, eixoy, marker=\"o\", color=\"blue\")\n",
        "\n"
      ]
    },
    {
      "cell_type": "code",
      "execution_count": null,
      "metadata": {},
      "outputs": [],
      "source": [
        "import matplotlib.pyplot as plt\n",
        "\n",
        "plt.plot()"
      ]
    }
  ],
  "metadata": {
    "colab": {
      "collapsed_sections": [],
      "name": "Aula 2 Final - Planejamento.ipynb",
      "provenance": []
    },
    "interpreter": {
      "hash": "734ac41059f5427357fac1474daf0572b4777b86623b16b7c4b785a9aed36447"
    },
    "kernelspec": {
      "display_name": "Python 3.6.2 ('venv': venv)",
      "language": "python",
      "name": "python3"
    },
    "language_info": {
      "codemirror_mode": {
        "name": "ipython",
        "version": 3
      },
      "file_extension": ".py",
      "mimetype": "text/x-python",
      "name": "python",
      "nbconvert_exporter": "python",
      "pygments_lexer": "ipython3",
      "version": "3.6.2"
    }
  },
  "nbformat": 4,
  "nbformat_minor": 0
}
